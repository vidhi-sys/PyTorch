{
  "nbformat": 4,
  "nbformat_minor": 0,
  "metadata": {
    "colab": {
      "provenance": []
    },
    "kernelspec": {
      "name": "python3",
      "display_name": "Python 3"
    },
    "language_info": {
      "name": "python"
    }
  },
  "cells": [
    {
      "cell_type": "markdown",
      "source": [
        "# **Tensor Aggregation**"
      ],
      "metadata": {
        "id": "ZaLHOReXJsHe"
      }
    },
    {
      "cell_type": "code",
      "source": [
        "import torch\n",
        "x=torch.arange(0,10)\n",
        "x"
      ],
      "metadata": {
        "colab": {
          "base_uri": "https://localhost:8080/"
        },
        "id": "U8eYzQGFJvT8",
        "outputId": "8ed10195-41a7-43ee-84d3-bbc5ee8a2756"
      },
      "execution_count": 3,
      "outputs": [
        {
          "output_type": "execute_result",
          "data": {
            "text/plain": [
              "tensor([0, 1, 2, 3, 4, 5, 6, 7, 8, 9])"
            ]
          },
          "metadata": {},
          "execution_count": 3
        }
      ]
    },
    {
      "cell_type": "code",
      "source": [
        "print(torch.min(x))\n",
        "print(torch.max(x))\n",
        "#print(torch.mean(x))\n",
        "# mean(): could not infer output dtype.\n",
        "# Input dtype must be either a floating point or complex dtype. Got: Long\n",
        "print(torch.mean(x.type(torch.float32)))"
      ],
      "metadata": {
        "colab": {
          "base_uri": "https://localhost:8080/"
        },
        "id": "CWFiyaURKCW8",
        "outputId": "af8c6aec-22ba-4bf5-a256-bfe100bbccc6"
      },
      "execution_count": 8,
      "outputs": [
        {
          "output_type": "stream",
          "name": "stdout",
          "text": [
            "tensor(0)\n",
            "tensor(9)\n",
            "tensor(4.5000)\n"
          ]
        }
      ]
    },
    {
      "cell_type": "code",
      "source": [
        "print(x.sum())\n"
      ],
      "metadata": {
        "colab": {
          "base_uri": "https://localhost:8080/"
        },
        "id": "VPblrzHYK2R5",
        "outputId": "6ce58c69-09ee-4eec-eb4c-2c20f6485551"
      },
      "execution_count": 9,
      "outputs": [
        {
          "output_type": "stream",
          "name": "stdout",
          "text": [
            "tensor(45)\n"
          ]
        }
      ]
    },
    {
      "cell_type": "code",
      "source": [
        "print(torch.argmin(x))# positional min and max\n",
        "print(torch.argmax(x)) #index positiion of min and max value occuring"
      ],
      "metadata": {
        "colab": {
          "base_uri": "https://localhost:8080/"
        },
        "id": "cNwcWQdULElX",
        "outputId": "3a146c22-8724-4e65-f9a5-ba5d9eda2cc1"
      },
      "execution_count": 14,
      "outputs": [
        {
          "output_type": "stream",
          "name": "stdout",
          "text": [
            "tensor(0)\n",
            "tensor(9)\n"
          ]
        }
      ]
    },
    {
      "cell_type": "markdown",
      "source": [
        "# **Reshaping, viewing ,Squeze , Permute and stacking Tensors**\n",
        "https://pytorchguide.netlify.app/chapter-01/reshape-stack-squeeze-tensors/"
      ],
      "metadata": {
        "id": "Rf9qdWbPL8PL"
      }
    },
    {
      "cell_type": "code",
      "source": [
        "import torch\n",
        "y=torch.arange(1,11)\n",
        "y,y.shape"
      ],
      "metadata": {
        "colab": {
          "base_uri": "https://localhost:8080/"
        },
        "id": "klTjQAFeLrYT",
        "outputId": "b7452f30-7445-44af-fcc1-a734a9d605c2"
      },
      "execution_count": 25,
      "outputs": [
        {
          "output_type": "execute_result",
          "data": {
            "text/plain": [
              "(tensor([ 1,  2,  3,  4,  5,  6,  7,  8,  9, 10]), torch.Size([10]))"
            ]
          },
          "metadata": {},
          "execution_count": 25
        }
      ]
    },
    {
      "cell_type": "code",
      "source": [
        "#Add and extra dimension\n",
        "y_reshaped=y.reshape(5,2)#5*2=10\n",
        "y_reshaped,y_reshaped.shape\n"
      ],
      "metadata": {
        "colab": {
          "base_uri": "https://localhost:8080/"
        },
        "id": "yZOcQUYmNTK0",
        "outputId": "fa06dc1f-1f65-4b51-c4fc-47e72057fc83"
      },
      "execution_count": 26,
      "outputs": [
        {
          "output_type": "execute_result",
          "data": {
            "text/plain": [
              "(tensor([[ 1,  2],\n",
              "         [ 3,  4],\n",
              "         [ 5,  6],\n",
              "         [ 7,  8],\n",
              "         [ 9, 10]]),\n",
              " torch.Size([5, 2]))"
            ]
          },
          "metadata": {},
          "execution_count": 26
        }
      ]
    },
    {
      "cell_type": "code",
      "source": [
        "#change the view\n",
        "# z shares memory as what y does ,changing z changes y\n",
        "z=y.view(2,5)\n",
        "z,z.shape"
      ],
      "metadata": {
        "colab": {
          "base_uri": "https://localhost:8080/"
        },
        "id": "dA6eFBrLN_Y1",
        "outputId": "ea9c574e-4e4e-4c8d-a9dd-21ca8d58acff"
      },
      "execution_count": 27,
      "outputs": [
        {
          "output_type": "execute_result",
          "data": {
            "text/plain": [
              "(tensor([[ 1,  2,  3,  4,  5],\n",
              "         [ 6,  7,  8,  9, 10]]),\n",
              " torch.Size([2, 5]))"
            ]
          },
          "metadata": {},
          "execution_count": 27
        }
      ]
    },
    {
      "cell_type": "code",
      "source": [
        "#stack tensors on top of each other\n",
        "y_stacked=torch.stack([y,y,y,y],dim=0)\n",
        "print(y_stacked)\n",
        "y_vstacked=torch.vstack([y,y,y,y])\n",
        "print(y_vstacked)\n",
        "y_hstacked=torch.hstack([y,y,y,y])\n",
        "print(y_hstacked)"
      ],
      "metadata": {
        "colab": {
          "base_uri": "https://localhost:8080/"
        },
        "id": "8ZT0Y_TeOddt",
        "outputId": "0d839b3d-d4e8-402c-d62d-bf79da3c8856"
      },
      "execution_count": 34,
      "outputs": [
        {
          "output_type": "stream",
          "name": "stdout",
          "text": [
            "tensor([[ 1,  2,  3,  4,  5,  6,  7,  8,  9, 10],\n",
            "        [ 1,  2,  3,  4,  5,  6,  7,  8,  9, 10],\n",
            "        [ 1,  2,  3,  4,  5,  6,  7,  8,  9, 10],\n",
            "        [ 1,  2,  3,  4,  5,  6,  7,  8,  9, 10]])\n",
            "tensor([[ 1,  2,  3,  4,  5,  6,  7,  8,  9, 10],\n",
            "        [ 1,  2,  3,  4,  5,  6,  7,  8,  9, 10],\n",
            "        [ 1,  2,  3,  4,  5,  6,  7,  8,  9, 10],\n",
            "        [ 1,  2,  3,  4,  5,  6,  7,  8,  9, 10]])\n",
            "tensor([ 1,  2,  3,  4,  5,  6,  7,  8,  9, 10,  1,  2,  3,  4,  5,  6,  7,  8,\n",
            "         9, 10,  1,  2,  3,  4,  5,  6,  7,  8,  9, 10,  1,  2,  3,  4,  5,  6,\n",
            "         7,  8,  9, 10])\n"
          ]
        }
      ]
    },
    {
      "cell_type": "code",
      "source": [
        "#squueze and unsqueeze\n",
        "w=y_hstacked.squeeze()\n",
        "print(w)\n",
        "print(\"shape: \"+ str(w.shape))\n",
        "# puts it in one dimension , removes all one dimension to avoid dimension\n",
        "# mismatch\n",
        "q=w.unsqueeze(dim=0)\n",
        "print(q)\n",
        "print( \"shape: \"+str(q.shape))"
      ],
      "metadata": {
        "colab": {
          "base_uri": "https://localhost:8080/"
        },
        "id": "MuXrGClAPAlE",
        "outputId": "1aee9434-7d93-4a45-aec2-9bda180e6cbe"
      },
      "execution_count": 44,
      "outputs": [
        {
          "output_type": "stream",
          "name": "stdout",
          "text": [
            "tensor([ 1,  2,  3,  4,  5,  6,  7,  8,  9, 10,  1,  2,  3,  4,  5,  6,  7,  8,\n",
            "         9, 10,  1,  2,  3,  4,  5,  6,  7,  8,  9, 10,  1,  2,  3,  4,  5,  6,\n",
            "         7,  8,  9, 10])\n",
            "shape: torch.Size([40])\n",
            "tensor([[ 1,  2,  3,  4,  5,  6,  7,  8,  9, 10,  1,  2,  3,  4,  5,  6,  7,  8,\n",
            "          9, 10,  1,  2,  3,  4,  5,  6,  7,  8,  9, 10,  1,  2,  3,  4,  5,  6,\n",
            "          7,  8,  9, 10]])\n",
            "shape: torch.Size([1, 40])\n"
          ]
        }
      ]
    },
    {
      "cell_type": "code",
      "source": [
        "#permute = swap the dimensions\n",
        "x_2=torch.rand(224,224,3) #RGB or HWL\n",
        "x_permuted=x_2.permute(2,0,1)\n",
        "print(x_permuted.shape)"
      ],
      "metadata": {
        "colab": {
          "base_uri": "https://localhost:8080/"
        },
        "id": "Zwwua3dtfExD",
        "outputId": "5eadd2f7-8ae8-4ac4-9879-43eb2e45871a"
      },
      "execution_count": 45,
      "outputs": [
        {
          "output_type": "stream",
          "name": "stdout",
          "text": [
            "torch.Size([3, 224, 224])\n"
          ]
        }
      ]
    },
    {
      "cell_type": "markdown",
      "source": [
        "# **Indexing**"
      ],
      "metadata": {
        "id": "tCSw5aA8jvcL"
      }
    },
    {
      "cell_type": "code",
      "source": [
        "#selecting data from tensors\n",
        "import torch\n",
        "x=torch.arange(1,10).reshape(1,3,3)\n",
        "x,x.shape"
      ],
      "metadata": {
        "colab": {
          "base_uri": "https://localhost:8080/"
        },
        "id": "3NXJ4YFPiyNu",
        "outputId": "4fba9ca1-3a69-47a1-be21-0cc5bec3d303"
      },
      "execution_count": 46,
      "outputs": [
        {
          "output_type": "execute_result",
          "data": {
            "text/plain": [
              "(tensor([[[1, 2, 3],\n",
              "          [4, 5, 6],\n",
              "          [7, 8, 9]]]),\n",
              " torch.Size([1, 3, 3]))"
            ]
          },
          "metadata": {},
          "execution_count": 46
        }
      ]
    },
    {
      "cell_type": "code",
      "source": [
        "x[0][0][0]"
      ],
      "metadata": {
        "colab": {
          "base_uri": "https://localhost:8080/"
        },
        "id": "CdntH-3tj-mJ",
        "outputId": "c424a4f2-d326-4692-b54c-60b13e011f7a"
      },
      "execution_count": 50,
      "outputs": [
        {
          "output_type": "execute_result",
          "data": {
            "text/plain": [
              "tensor(1)"
            ]
          },
          "metadata": {},
          "execution_count": 50
        }
      ]
    }
  ]
}